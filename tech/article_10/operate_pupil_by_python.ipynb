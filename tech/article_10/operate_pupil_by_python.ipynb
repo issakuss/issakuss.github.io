{
 "cells": [
  {
   "cell_type": "markdown",
   "metadata": {},
   "source": [
    "# TCPで接続する"
   ]
  },
  {
   "cell_type": "code",
   "execution_count": null,
   "metadata": {},
   "outputs": [],
   "source": [
    "import zmq, msgpack\n",
    "\n",
    "context = zmq.Context()\n",
    "socket = context.socket(zmq.REQ)\n",
    "socket.connect('tcp://localhost:50020')"
   ]
  },
  {
   "cell_type": "markdown",
   "metadata": {},
   "source": [
    "# Stringをつかって操作する"
   ]
  },
  {
   "cell_type": "markdown",
   "metadata": {},
   "source": [
    "## 基本的な使い方"
   ]
  },
  {
   "cell_type": "code",
   "execution_count": null,
   "metadata": {},
   "outputs": [],
   "source": [
    "# Recordを開始する\n",
    "socket.send_string('R')\n",
    "socket.recv()"
   ]
  },
  {
   "cell_type": "code",
   "execution_count": null,
   "metadata": {},
   "outputs": [],
   "source": [
    "# Recordを停止する\n",
    "socket.send_string('r')\n",
    "socket.recv()"
   ]
  },
  {
   "cell_type": "code",
   "execution_count": null,
   "metadata": {},
   "outputs": [],
   "source": [
    "# session名を指定してRecord開始する\n",
    "socket.send_string('R session_no_namae')\n",
    "socket.recv()"
   ]
  },
  {
   "cell_type": "markdown",
   "metadata": {},
   "source": [
    "## そのほかにできること"
   ]
  },
  {
   "cell_type": "code",
   "execution_count": null,
   "metadata": {},
   "outputs": [],
   "source": [
    "#socket.send_string('R')\n",
    "#socket.send_string('R namae')\n",
    "#socket.send_string('r')\n",
    "#socket.send_string('C')\n",
    "#socket.send_string('c')\n",
    "#socket.send_string('T `1234.56')\n",
    "#socket.send_string('t')\n",
    "socket.send_string('v')\n",
    "socket.recv()"
   ]
  },
  {
   "cell_type": "markdown",
   "metadata": {},
   "source": [
    "# より複雑な命令をする"
   ]
  },
  {
   "cell_type": "markdown",
   "metadata": {},
   "source": [
    "## 基本的な使い方"
   ]
  },
  {
   "cell_type": "code",
   "execution_count": null,
   "metadata": {},
   "outputs": [],
   "source": [
    "# Eye Camera 0を起動させる\n",
    "n = {'subject': 'eye_process.should_start.0',\n",
    "     'eye_id' : 0}\n",
    "socket.send_multipart([('notify.eye_process.should_start.0').encode('utf-8'),\n",
    "                        msgpack.dumps(n)])\n",
    "socket.recv()"
   ]
  },
  {
   "cell_type": "code",
   "execution_count": null,
   "metadata": {},
   "outputs": [],
   "source": [
    "# 使いやすいように関数化する\n",
    "def send_recv_notification(n, socket):\n",
    "    socket.send_multipart([('notify.%s'%n['subject']).encode('utf-8'),\n",
    "                           msgpack.dumps(n)])\n",
    "    return socket.recv()"
   ]
  },
  {
   "cell_type": "code",
   "execution_count": null,
   "metadata": {
    "scrolled": true
   },
   "outputs": [],
   "source": [
    "# Eye Camera 0を止める\n",
    "n = {'subject': 'eye_process.should_stop.0',\n",
    "     'eye_id' : 0}\n",
    "send_recv_notification(n, socket)"
   ]
  },
  {
   "cell_type": "code",
   "execution_count": null,
   "metadata": {
    "scrolled": true
   },
   "outputs": [],
   "source": [
    "# EYE CAMERA 1を起動する\n",
    "n = {'subject': 'eye_process.should_start.1',\n",
    "     'eye_id' : 1,}\n",
    "send_recv_notification(n, socket)"
   ]
  },
  {
   "cell_type": "code",
   "execution_count": null,
   "metadata": {},
   "outputs": [],
   "source": [
    "# Recordingを開始する\n",
    "n = {'subject'     : 'recording.should_start',\n",
    "     'session_name': 'test_session'}\n",
    "send_recv_notification(n, socket)\n",
    "#socket.send_string('R test_session')\n",
    "#socket.recv()\n",
    "# と同じ"
   ]
  },
  {
   "cell_type": "code",
   "execution_count": null,
   "metadata": {},
   "outputs": [],
   "source": [
    "# Recordingを停止する\n",
    "n = {'subject'     : 'recording.should_stop',\n",
    "     'session_name': 'test_session'}\n",
    "send_recv_notification(n, socket)\n",
    "#socket.send_string('r')\n",
    "#socket.recv()\n",
    "# と同じ"
   ]
  },
  {
   "cell_type": "code",
   "execution_count": null,
   "metadata": {},
   "outputs": [],
   "source": [
    "# Plugin（Annotation Capture）を起動する\n",
    "n = {'subject': 'start_plugin',\n",
    "     'name'   : 'Annotation_Capture'}\n",
    "send_recv_notification(n, socket)"
   ]
  },
  {
   "cell_type": "markdown",
   "metadata": {},
   "source": [
    "## Annotationを入れる"
   ]
  },
  {
   "cell_type": "code",
   "execution_count": null,
   "metadata": {},
   "outputs": [],
   "source": [
    "socket.send_string('t')\n",
    "ts = socket.recv()\n",
    "n = {'topic'    : 'annotation',\n",
    "     'label'    : 'raberu_no_namae',\n",
    "     'timestamp': float(ts)}\n",
    "socket.send_multipart([(n['topic']).encode('utf-8'),\n",
    "                        msgpack.dumps(n)])\n",
    "socket.recv()"
   ]
  },
  {
   "cell_type": "code",
   "execution_count": null,
   "metadata": {},
   "outputs": [],
   "source": [
    "# 関数にまとめる\n",
    "def send_annotation(n, socket):\n",
    "    socket.send_string('t')\n",
    "    ts = socket.recv()\n",
    "    n['topic'] = 'annotation'\n",
    "    n['timestamp'] = float(ts)\n",
    "    socket.send_multipart([(n['topic']).encode('utf-8'),\n",
    "                            msgpack.dumps(n)])\n",
    "    socket.recv()"
   ]
  },
  {
   "cell_type": "code",
   "execution_count": null,
   "metadata": {},
   "outputs": [],
   "source": [
    "n = {'label'    : 'session_start',\n",
    "     'duration' : 1.0,\n",
    "     'source'   : 'a test script',\n",
    "     'record'   : True}\n",
    "send_annotation(n, socket)"
   ]
  },
  {
   "cell_type": "markdown",
   "metadata": {},
   "source": [
    "# Classにまとめてみた"
   ]
  },
  {
   "cell_type": "code",
   "execution_count": null,
   "metadata": {},
   "outputs": [],
   "source": [
    "import zmq, msgpack\n",
    "class PupilLabs:    \n",
    "    def __init__(self, session_name):\n",
    "\n",
    "        def send_command(n, socket):\n",
    "            socket.send_multipart([('notify.%s'%n['subject']).encode('utf-8'), msgpack.dumps(n)])\n",
    "            return socket.recv()\n",
    "        \n",
    "        self.send_command = send_command\n",
    "        self.session_name = session_name\n",
    "        context = zmq.Context()\n",
    "        self.socket = context.socket(zmq.REQ)\n",
    "        self.socket.connect('tcp://localhost:50020')\n",
    "\n",
    "        # EYE CAMERA 1 (/2) ACTIVATE\n",
    "        n = {'subject': 'eye_process.should_start.0',\n",
    "             'eye_id' : 0}\n",
    "        send_command(n, self.socket)\n",
    "        \n",
    "        # EYE CAMERA 2 (/2) INACTIVATE\n",
    "        n = {'subject': 'eye_process.should_stop.0',\n",
    "             'eye_id' : 1}\n",
    "        send_command(n, self.socket)\n",
    "\n",
    "        # START PLUGIN\n",
    "        n = {'subject': 'start_plugin',\n",
    "             'name'   : 'Annotation_Capture'}\n",
    "        send_command(n, self.socket)\n",
    "\n",
    "    def init_recording(self):\n",
    "        n = {'subject'     : 'recording.should_start',\n",
    "             'session_name': self.session_name}\n",
    "        self.send_command(n, self.socket)\n",
    "\n",
    "    def stop_recording(self):\n",
    "        n = {'subject'     : 'recording.should_stop'}\n",
    "        self.send_command(n, self.socket)\n",
    "\n",
    "    def send_annotation(self, label):\n",
    "        self.socket.send_string('t')\n",
    "        ts = float(self.socket.recv())\n",
    "        n = {'topic'    : 'annotation',\n",
    "             'label'    : label,\n",
    "             'timestamp': ts}\n",
    "        self.socket.send_multipart([(n['topic']).encode('utf-8'), msgpack.dumps(n)])\n",
    "        self.socket.recv()"
   ]
  },
  {
   "cell_type": "code",
   "execution_count": null,
   "metadata": {},
   "outputs": [],
   "source": [
    "from time import sleep\n",
    "pupillabs = PupilLabs('test')\n",
    "sleep(5)\n",
    "pupillabs.init_recording()\n",
    "for i in range(3):\n",
    "    sleep(1)\n",
    "    pupillabs.send_annotation('test {}'.format(i))\n",
    "sleep(1)\n",
    "pupillabs.stop_recording()"
   ]
  },
  {
   "cell_type": "markdown",
   "metadata": {},
   "source": [
    "# pupil labsからLSLでデータを送る"
   ]
  },
  {
   "cell_type": "markdown",
   "metadata": {},
   "source": [
    "## LSL Pluginを起動する"
   ]
  },
  {
   "cell_type": "code",
   "execution_count": null,
   "metadata": {},
   "outputs": [],
   "source": [
    "import zmq, msgpack\n",
    "context = zmq.Context()\n",
    "socket = context.socket(zmq.REQ)\n",
    "socket.connect('tcp://localhost:50020')\n",
    "\n",
    "def send_recv_notification(n, socket):\n",
    "    socket.send_multipart([('notify.%s'%n['subject']).encode('utf-8'),\n",
    "                           msgpack.dumps(n)])\n",
    "    return socket.recv()\n",
    "\n",
    "n = {'subject': 'start_plugin',\n",
    "     'name'   : 'Pupil_LSL_Relay'}\n",
    "send_recv_notification(n, socket)"
   ]
  },
  {
   "cell_type": "code",
   "execution_count": null,
   "metadata": {},
   "outputs": [],
   "source": [
    "# オプションをオフにする\n",
    "n = {'subject': 'start_plugin',\n",
    "     'name'   : 'Pupil_LSL_Relay',\n",
    "     'args'   : {'relay_pupil'        : True,\n",
    "                 'relay_gaze'         : True,\n",
    "                 'relay_notifications': False}}\n",
    "send_recv_notification(n, socket)"
   ]
  }
 ],
 "metadata": {
  "kernelspec": {
   "display_name": "Python 3",
   "language": "python",
   "name": "python3"
  },
  "language_info": {
   "codemirror_mode": {
    "name": "ipython",
    "version": 3
   },
   "file_extension": ".py",
   "mimetype": "text/x-python",
   "name": "python",
   "nbconvert_exporter": "python",
   "pygments_lexer": "ipython3",
   "version": "3.7.1"
  },
  "toc": {
   "base_numbering": 1,
   "nav_menu": {},
   "number_sections": true,
   "sideBar": true,
   "skip_h1_title": false,
   "title_cell": "Table of Contents",
   "title_sidebar": "Contents",
   "toc_cell": false,
   "toc_position": {},
   "toc_section_display": true,
   "toc_window_display": false
  }
 },
 "nbformat": 4,
 "nbformat_minor": 2
}
