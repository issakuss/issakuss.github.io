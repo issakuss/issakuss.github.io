{
 "cells": [
  {
   "cell_type": "markdown",
   "metadata": {},
   "source": [
    "## データの準備"
   ]
  },
  {
   "cell_type": "code",
   "execution_count": 1,
   "metadata": {},
   "outputs": [],
   "source": [
    "from sklearn.datasets import load_boston\n",
    "from sklearn.model_selection import train_test_split\n",
    "housing = load_boston()\n",
    "X_train, X_test, y_train, y_test = train_test_split(housing.data, housing.target,\n",
    "                                                    train_size=0.75, test_size=0.25,\n",
    "                                                    random_state=2018)"
   ]
  },
  {
   "cell_type": "markdown",
   "metadata": {},
   "source": [
    "## 結果に再現性をもたせる"
   ]
  },
  {
   "cell_type": "code",
   "execution_count": 2,
   "metadata": {},
   "outputs": [],
   "source": [
    "from tpot import TPOTRegressor"
   ]
  },
  {
   "cell_type": "code",
   "execution_count": 3,
   "metadata": {},
   "outputs": [],
   "source": [
    "tpot = TPOTRegressor(generations=5, population_size=50,\n",
    "                     verbosity=2, n_jobs=-1, random_state=2018)"
   ]
  },
  {
   "cell_type": "code",
   "execution_count": 4,
   "metadata": {},
   "outputs": [
    {
     "name": "stdout",
     "output_type": "stream",
     "text": [
      "Warning: xgboost.XGBRegressor is not available and will not be used by TPOT.\n"
     ]
    },
    {
     "data": {
      "application/vnd.jupyter.widget-view+json": {
       "model_id": "",
       "version_major": 2,
       "version_minor": 0
      },
      "text/plain": [
       "HBox(children=(IntProgress(value=0, description='Optimization Progress', max=300, style=ProgressStyle(descript…"
      ]
     },
     "metadata": {},
     "output_type": "display_data"
    },
    {
     "name": "stdout",
     "output_type": "stream",
     "text": [
      "Generation 1 - Current best internal CV score: -13.39495565337504\n",
      "Generation 2 - Current best internal CV score: -12.18439628126403\n",
      "Generation 3 - Current best internal CV score: -12.18439628126403\n",
      "Generation 4 - Current best internal CV score: -12.18439628126403\n",
      "Generation 5 - Current best internal CV score: -11.19793954822236\n",
      "\n",
      "Best pipeline: RandomForestRegressor(PolynomialFeatures(SelectFwe(input_matrix, alpha=0.046), degree=2, include_bias=False, interaction_only=False), bootstrap=False, max_features=0.15000000000000002, min_samples_leaf=3, min_samples_split=2, n_estimators=100)\n",
      "39.54600715637207\n"
     ]
    }
   ],
   "source": [
    "import time\n",
    "t0 = time.time()\n",
    "tpot.fit(X_train, y_train)\n",
    "print(time.time() - t0)"
   ]
  },
  {
   "cell_type": "markdown",
   "metadata": {},
   "source": [
    "## 同じtransformを省略させる"
   ]
  },
  {
   "cell_type": "code",
   "execution_count": 5,
   "metadata": {},
   "outputs": [],
   "source": [
    "tpot = TPOTRegressor(generations=5, population_size=50,\n",
    "                     verbosity=2, n_jobs=-1, random_state=2018, memory='auto')"
   ]
  },
  {
   "cell_type": "code",
   "execution_count": 6,
   "metadata": {},
   "outputs": [
    {
     "name": "stdout",
     "output_type": "stream",
     "text": [
      "Warning: xgboost.XGBRegressor is not available and will not be used by TPOT.\n"
     ]
    },
    {
     "data": {
      "application/vnd.jupyter.widget-view+json": {
       "model_id": "",
       "version_major": 2,
       "version_minor": 0
      },
      "text/plain": [
       "HBox(children=(IntProgress(value=0, description='Optimization Progress', max=300, style=ProgressStyle(descript…"
      ]
     },
     "metadata": {},
     "output_type": "display_data"
    },
    {
     "name": "stdout",
     "output_type": "stream",
     "text": [
      "Generation 1 - Current best internal CV score: -13.39495565337504\n",
      "Generation 2 - Current best internal CV score: -12.18439628126403\n",
      "Generation 3 - Current best internal CV score: -12.18439628126403\n",
      "Generation 4 - Current best internal CV score: -12.18439628126403\n",
      "Generation 5 - Current best internal CV score: -11.19793954822236\n",
      "\n",
      "Best pipeline: RandomForestRegressor(PolynomialFeatures(SelectFwe(input_matrix, alpha=0.046), degree=2, include_bias=False, interaction_only=False), bootstrap=False, max_features=0.15000000000000002, min_samples_leaf=3, min_samples_split=2, n_estimators=100)\n",
      "41.3427209854126\n"
     ]
    }
   ],
   "source": [
    "t0 = time.time()\n",
    "tpot.fit(X_train, y_train)\n",
    "print(time.time() - t0)"
   ]
  },
  {
   "cell_type": "markdown",
   "metadata": {},
   "source": [
    "## 途中経過を随時保存する"
   ]
  },
  {
   "cell_type": "code",
   "execution_count": 7,
   "metadata": {},
   "outputs": [],
   "source": [
    "dire = 'proc_folder'\n",
    "tpot = TPOTRegressor(generations=5, population_size=50,\n",
    "                     verbosity=2, n_jobs=-1, random_state=2018, periodic_checkpoint_folder=dire)"
   ]
  },
  {
   "cell_type": "code",
   "execution_count": 8,
   "metadata": {},
   "outputs": [
    {
     "name": "stdout",
     "output_type": "stream",
     "text": [
      "Warning: xgboost.XGBRegressor is not available and will not be used by TPOT.\n"
     ]
    },
    {
     "data": {
      "application/vnd.jupyter.widget-view+json": {
       "model_id": "",
       "version_major": 2,
       "version_minor": 0
      },
      "text/plain": [
       "HBox(children=(IntProgress(value=0, description='Optimization Progress', max=300, style=ProgressStyle(descript…"
      ]
     },
     "metadata": {},
     "output_type": "display_data"
    },
    {
     "name": "stdout",
     "output_type": "stream",
     "text": [
      "Generation 1 - Current best internal CV score: -13.39495565337504\n",
      "Generation 2 - Current best internal CV score: -12.18439628126403\n",
      "Generation 3 - Current best internal CV score: -12.18439628126403\n",
      "Generation 4 - Current best internal CV score: -12.18439628126403\n",
      "Generation 5 - Current best internal CV score: -11.19793954822236\n",
      "\n",
      "Best pipeline: RandomForestRegressor(PolynomialFeatures(SelectFwe(input_matrix, alpha=0.046), degree=2, include_bias=False, interaction_only=False), bootstrap=False, max_features=0.15000000000000002, min_samples_leaf=3, min_samples_split=2, n_estimators=100)\n",
      "35.76456570625305\n"
     ]
    }
   ],
   "source": [
    "t0 = time.time()\n",
    "tpot.fit(X_train, y_train)\n",
    "print(time.time() - t0)"
   ]
  },
  {
   "cell_type": "markdown",
   "metadata": {},
   "source": [
    "## 前回の続きからFittingする"
   ]
  },
  {
   "cell_type": "markdown",
   "metadata": {},
   "source": [
    "### 一気に10世代やる"
   ]
  },
  {
   "cell_type": "code",
   "execution_count": 9,
   "metadata": {},
   "outputs": [],
   "source": [
    "tpot = TPOTRegressor(generations=10, population_size=50,\n",
    "                     verbosity=2, n_jobs=-1, random_state=2018)"
   ]
  },
  {
   "cell_type": "code",
   "execution_count": 10,
   "metadata": {},
   "outputs": [
    {
     "name": "stdout",
     "output_type": "stream",
     "text": [
      "Warning: xgboost.XGBRegressor is not available and will not be used by TPOT.\n"
     ]
    },
    {
     "data": {
      "application/vnd.jupyter.widget-view+json": {
       "model_id": "",
       "version_major": 2,
       "version_minor": 0
      },
      "text/plain": [
       "HBox(children=(IntProgress(value=0, description='Optimization Progress', max=550, style=ProgressStyle(descript…"
      ]
     },
     "metadata": {},
     "output_type": "display_data"
    },
    {
     "name": "stdout",
     "output_type": "stream",
     "text": [
      "Generation 1 - Current best internal CV score: -13.39495565337504\n",
      "Generation 2 - Current best internal CV score: -12.18439628126403\n",
      "Generation 3 - Current best internal CV score: -12.18439628126403\n",
      "Generation 4 - Current best internal CV score: -12.18439628126403\n",
      "Generation 5 - Current best internal CV score: -11.19793954822236\n",
      "Generation 6 - Current best internal CV score: -11.19793954822236\n",
      "Generation 7 - Current best internal CV score: -11.19793954822236\n",
      "Generation 8 - Current best internal CV score: -11.19793954822236\n",
      "Generation 9 - Current best internal CV score: -11.185374648364572\n",
      "Generation 10 - Current best internal CV score: -11.185374648364572\n",
      "\n",
      "Best pipeline: RandomForestRegressor(StandardScaler(PolynomialFeatures(SelectFwe(input_matrix, alpha=0.046), degree=2, include_bias=False, interaction_only=False)), bootstrap=False, max_features=0.15000000000000002, min_samples_leaf=3, min_samples_split=2, n_estimators=100)\n",
      "86.62028527259827\n"
     ]
    }
   ],
   "source": [
    "t0 = time.time()\n",
    "tpot.fit(X_train, y_train)\n",
    "print(time.time() - t0)"
   ]
  },
  {
   "cell_type": "markdown",
   "metadata": {},
   "source": [
    "### 5世代の計算を2回やる"
   ]
  },
  {
   "cell_type": "code",
   "execution_count": 11,
   "metadata": {},
   "outputs": [
    {
     "name": "stdout",
     "output_type": "stream",
     "text": [
      "Warning: xgboost.XGBRegressor is not available and will not be used by TPOT.\n"
     ]
    },
    {
     "data": {
      "application/vnd.jupyter.widget-view+json": {
       "model_id": "",
       "version_major": 2,
       "version_minor": 0
      },
      "text/plain": [
       "HBox(children=(IntProgress(value=0, description='Optimization Progress', max=300, style=ProgressStyle(descript…"
      ]
     },
     "metadata": {},
     "output_type": "display_data"
    },
    {
     "name": "stdout",
     "output_type": "stream",
     "text": [
      "Generation 1 - Current best internal CV score: -13.39495565337504\n",
      "Generation 2 - Current best internal CV score: -12.18439628126403\n",
      "Generation 3 - Current best internal CV score: -12.18439628126403\n",
      "Generation 4 - Current best internal CV score: -12.18439628126403\n",
      "Generation 5 - Current best internal CV score: -11.19793954822236\n",
      "\n",
      "Best pipeline: RandomForestRegressor(PolynomialFeatures(SelectFwe(input_matrix, alpha=0.046), degree=2, include_bias=False, interaction_only=False), bootstrap=False, max_features=0.15000000000000002, min_samples_leaf=3, min_samples_split=2, n_estimators=100)\n",
      "34.52070999145508\n"
     ]
    }
   ],
   "source": [
    "t0 = time.time()\n",
    "tpot = TPOTRegressor(generations=5, population_size=50,\n",
    "                     verbosity=2, n_jobs=-1, random_state=2018, warm_start=True)\n",
    "tpot.fit(X_train, y_train)\n",
    "print(time.time() - t0)"
   ]
  },
  {
   "cell_type": "code",
   "execution_count": 12,
   "metadata": {},
   "outputs": [
    {
     "name": "stdout",
     "output_type": "stream",
     "text": [
      "Warning: xgboost.XGBRegressor is not available and will not be used by TPOT.\n"
     ]
    },
    {
     "data": {
      "application/vnd.jupyter.widget-view+json": {
       "model_id": "ef5548f6979d49c4b2722c92be9c2909",
       "version_major": 2,
       "version_minor": 0
      },
      "text/plain": [
       "HBox(children=(IntProgress(value=0, description='Optimization Progress', max=300, style=ProgressStyle(descript…"
      ]
     },
     "metadata": {},
     "output_type": "display_data"
    },
    {
     "name": "stdout",
     "output_type": "stream",
     "text": [
      "Generation 1 - Current best internal CV score: -11.19793954822236\n",
      "Generation 2 - Current best internal CV score: -10.490260628437639\n",
      "Generation 3 - Current best internal CV score: -10.490260628437639\n",
      "Generation 4 - Current best internal CV score: -10.490260628437639\n",
      "Generation 5 - Current best internal CV score: -10.490260628437639\n",
      "\n",
      "Best pipeline: RandomForestRegressor(LassoLarsCV(PolynomialFeatures(SelectFwe(input_matrix, alpha=0.046), degree=2, include_bias=False, interaction_only=False), normalize=False), bootstrap=False, max_features=0.15000000000000002, min_samples_leaf=3, min_samples_split=2, n_estimators=100)\n",
      "64.9047622680664\n"
     ]
    }
   ],
   "source": [
    "t0 = time.time()\n",
    "tpot.fit(X_train, y_train)\n",
    "print(time.time() - t0)"
   ]
  },
  {
   "cell_type": "markdown",
   "metadata": {},
   "source": [
    "## 各世代のCV scoreを出力する"
   ]
  },
  {
   "cell_type": "code",
   "execution_count": 13,
   "metadata": {},
   "outputs": [],
   "source": [
    "import sys\n",
    "sys.stdout = open('temp.txt', 'w')"
   ]
  },
  {
   "cell_type": "code",
   "execution_count": 14,
   "metadata": {},
   "outputs": [
    {
     "data": {
      "application/vnd.jupyter.widget-view+json": {
       "model_id": "",
       "version_major": 2,
       "version_minor": 0
      },
      "text/plain": [
       "HBox(children=(IntProgress(value=0, description='Optimization Progress', max=1550, style=ProgressStyle(descrip…"
      ]
     },
     "metadata": {},
     "output_type": "display_data"
    },
    {
     "data": {
      "text/plain": [
       "TPOTRegressor(config_dict=None, crossover_rate=0.1, cv=5,\n",
       "       disable_update_check=False, early_stop=None, generations=30,\n",
       "       max_eval_time_mins=5, max_time_mins=None, memory=None,\n",
       "       mutation_rate=0.9, n_jobs=-1, offspring_size=None,\n",
       "       periodic_checkpoint_folder=None, population_size=50,\n",
       "       random_state=2018, scoring=None, subsample=1.0, use_dask=False,\n",
       "       verbosity=2, warm_start=False)"
      ]
     },
     "execution_count": 14,
     "metadata": {},
     "output_type": "execute_result"
    }
   ],
   "source": [
    "tpot = TPOTRegressor(generations=30, population_size=50,\n",
    "                     verbosity=2, n_jobs=-1, random_state=2018)\n",
    "tpot.fit(X_train, y_train)"
   ]
  },
  {
   "cell_type": "code",
   "execution_count": 15,
   "metadata": {},
   "outputs": [],
   "source": [
    "sys.stdout.close()\n",
    "sys.stdout = sys.__stdout__"
   ]
  },
  {
   "cell_type": "code",
   "execution_count": 16,
   "metadata": {},
   "outputs": [],
   "source": [
    "txt = open('temp.txt', 'r').read()"
   ]
  },
  {
   "cell_type": "code",
   "execution_count": 17,
   "metadata": {
    "scrolled": true
   },
   "outputs": [
    {
     "data": {
      "text/plain": [
       "'Warning: xgboost.XGBRegressor is not available and will not be used by TPOT.\\n\\nGeneration 1 - Current best internal CV score: -13.39495565337504\\n\\nGeneration 2 - Current best internal CV score: -12.18439628126403\\n\\nGeneration 3 - Current best internal CV score: -12.18439628126403\\n\\nGeneration 4 - Current best internal CV score: -12.18439628126403\\n\\nGeneration 5 - Current best internal CV score: -11.19793954822236\\n\\nGeneration 6 - Current best internal CV score: -11.19793954822236\\n\\nGeneration 7 - Current best internal CV score: -11.19793954822236\\n\\nGeneration 8 - Current best internal CV score: -11.19793954822236\\n\\nGeneration 9 - Current best internal CV score: -11.185374648364572\\n\\nGeneration 10 - Current best internal CV score: -11.185374648364572\\n\\nGeneration 11 - Current best internal CV score: -10.940434293847948\\n\\nGeneration 12 - Current best internal CV score: -10.142040391614035\\n\\nGeneration 13 - Current best internal CV score: -10.142040391614035\\n\\nGeneration 14 - Current best internal CV score: -10.142040391614035\\n\\nGeneration 15 - Current best internal CV score: -10.142040391614035\\n\\nGeneration 16 - Current best internal CV score: -10.142040391614035\\n\\nGeneration 17 - Current best internal CV score: -10.142040391614035\\n\\nGeneration 18 - Current best internal CV score: -10.142040391614035\\n\\nGeneration 19 - Current best internal CV score: -10.142040391614035\\n\\nGeneration 20 - Current best internal CV score: -10.142040391614035\\n\\nGeneration 21 - Current best internal CV score: -10.142040391614035\\n\\nGeneration 22 - Current best internal CV score: -10.142040391614035\\n\\nGeneration 23 - Current best internal CV score: -9.672317209541905\\n\\nGeneration 24 - Current best internal CV score: -9.672317209541905\\n\\nGeneration 25 - Current best internal CV score: -9.672317209541905\\n\\nGeneration 26 - Current best internal CV score: -9.672317209541905\\n\\nGeneration 27 - Current best internal CV score: -9.046123340035086\\n\\nGeneration 28 - Current best internal CV score: -9.046123340035086\\n\\nGeneration 29 - Current best internal CV score: -9.046123340035086\\n\\nGeneration 30 - Current best internal CV score: -9.046123340035086\\n\\n\\nBest pipeline: RandomForestRegressor(RidgeCV(StandardScaler(PolynomialFeatures(SelectFwe(input_matrix, alpha=0.046), degree=2, include_bias=False, interaction_only=False))), bootstrap=False, max_features=0.15000000000000002, min_samples_leaf=1, min_samples_split=2, n_estimators=100)\\n'"
      ]
     },
     "execution_count": 17,
     "metadata": {},
     "output_type": "execute_result"
    }
   ],
   "source": [
    "txt"
   ]
  },
  {
   "cell_type": "code",
   "execution_count": 18,
   "metadata": {},
   "outputs": [],
   "source": [
    "outs = txt.split('\\n\\n')"
   ]
  },
  {
   "cell_type": "code",
   "execution_count": 19,
   "metadata": {
    "scrolled": false
   },
   "outputs": [
    {
     "data": {
      "text/plain": [
       "['Warning: xgboost.XGBRegressor is not available and will not be used by TPOT.',\n",
       " 'Generation 1 - Current best internal CV score: -13.39495565337504',\n",
       " 'Generation 2 - Current best internal CV score: -12.18439628126403',\n",
       " 'Generation 3 - Current best internal CV score: -12.18439628126403',\n",
       " 'Generation 4 - Current best internal CV score: -12.18439628126403',\n",
       " 'Generation 5 - Current best internal CV score: -11.19793954822236',\n",
       " 'Generation 6 - Current best internal CV score: -11.19793954822236',\n",
       " 'Generation 7 - Current best internal CV score: -11.19793954822236',\n",
       " 'Generation 8 - Current best internal CV score: -11.19793954822236',\n",
       " 'Generation 9 - Current best internal CV score: -11.185374648364572',\n",
       " 'Generation 10 - Current best internal CV score: -11.185374648364572',\n",
       " 'Generation 11 - Current best internal CV score: -10.940434293847948',\n",
       " 'Generation 12 - Current best internal CV score: -10.142040391614035',\n",
       " 'Generation 13 - Current best internal CV score: -10.142040391614035',\n",
       " 'Generation 14 - Current best internal CV score: -10.142040391614035',\n",
       " 'Generation 15 - Current best internal CV score: -10.142040391614035',\n",
       " 'Generation 16 - Current best internal CV score: -10.142040391614035',\n",
       " 'Generation 17 - Current best internal CV score: -10.142040391614035',\n",
       " 'Generation 18 - Current best internal CV score: -10.142040391614035',\n",
       " 'Generation 19 - Current best internal CV score: -10.142040391614035',\n",
       " 'Generation 20 - Current best internal CV score: -10.142040391614035',\n",
       " 'Generation 21 - Current best internal CV score: -10.142040391614035',\n",
       " 'Generation 22 - Current best internal CV score: -10.142040391614035',\n",
       " 'Generation 23 - Current best internal CV score: -9.672317209541905',\n",
       " 'Generation 24 - Current best internal CV score: -9.672317209541905',\n",
       " 'Generation 25 - Current best internal CV score: -9.672317209541905',\n",
       " 'Generation 26 - Current best internal CV score: -9.672317209541905',\n",
       " 'Generation 27 - Current best internal CV score: -9.046123340035086',\n",
       " 'Generation 28 - Current best internal CV score: -9.046123340035086',\n",
       " 'Generation 29 - Current best internal CV score: -9.046123340035086',\n",
       " 'Generation 30 - Current best internal CV score: -9.046123340035086',\n",
       " '\\nBest pipeline: RandomForestRegressor(RidgeCV(StandardScaler(PolynomialFeatures(SelectFwe(input_matrix, alpha=0.046), degree=2, include_bias=False, interaction_only=False))), bootstrap=False, max_features=0.15000000000000002, min_samples_leaf=1, min_samples_split=2, n_estimators=100)\\n']"
      ]
     },
     "execution_count": 19,
     "metadata": {},
     "output_type": "execute_result"
    }
   ],
   "source": [
    "outs"
   ]
  },
  {
   "cell_type": "code",
   "execution_count": 20,
   "metadata": {},
   "outputs": [],
   "source": [
    "scores = [float(out.split(' ')[-1]) for out in outs[1:-1]]"
   ]
  },
  {
   "cell_type": "code",
   "execution_count": 21,
   "metadata": {
    "scrolled": true
   },
   "outputs": [
    {
     "data": {
      "text/plain": [
       "[-13.39495565337504,\n",
       " -12.18439628126403,\n",
       " -12.18439628126403,\n",
       " -12.18439628126403,\n",
       " -11.19793954822236,\n",
       " -11.19793954822236,\n",
       " -11.19793954822236,\n",
       " -11.19793954822236,\n",
       " -11.185374648364572,\n",
       " -11.185374648364572,\n",
       " -10.940434293847948,\n",
       " -10.142040391614035,\n",
       " -10.142040391614035,\n",
       " -10.142040391614035,\n",
       " -10.142040391614035,\n",
       " -10.142040391614035,\n",
       " -10.142040391614035,\n",
       " -10.142040391614035,\n",
       " -10.142040391614035,\n",
       " -10.142040391614035,\n",
       " -10.142040391614035,\n",
       " -10.142040391614035,\n",
       " -9.672317209541905,\n",
       " -9.672317209541905,\n",
       " -9.672317209541905,\n",
       " -9.672317209541905,\n",
       " -9.046123340035086,\n",
       " -9.046123340035086,\n",
       " -9.046123340035086,\n",
       " -9.046123340035086]"
      ]
     },
     "execution_count": 21,
     "metadata": {},
     "output_type": "execute_result"
    }
   ],
   "source": [
    "scores"
   ]
  },
  {
   "cell_type": "code",
   "execution_count": 22,
   "metadata": {},
   "outputs": [
    {
     "data": {
      "text/plain": [
       "[<matplotlib.lines.Line2D at 0x2329e7fc588>]"
      ]
     },
     "execution_count": 22,
     "metadata": {},
     "output_type": "execute_result"
    },
    {
     "data": {
      "image/png": "[encoded data removed]",
      "text/plain": [
       "<Figure size 432x288 with 1 Axes>"
      ]
     },
     "metadata": {
      "needs_background": "light"
     },
     "output_type": "display_data"
    }
   ],
   "source": [
    "import matplotlib.pyplot as plt\n",
    "%matplotlib inline\n",
    "plt.plot(scores)"
   ]
  },
  {
   "cell_type": "code",
   "execution_count": 23,
   "metadata": {},
   "outputs": [],
   "source": [
    "def fit_tpot(tpot, X_train, y_train):\n",
    "    import sys\n",
    "    sys.stdout = open('temp.txt', 'w')\n",
    "    tpot.fit(X_train, y_train)    \n",
    "    sys.stdout.close()\n",
    "    sys.stdout = sys.__stdout__    \n",
    "    \n",
    "    outs = open('temp.txt', 'r').read().split('\\n\\n')\n",
    "    scores = [float(out.split(' ')[-1]) for out in outs[1:-1]]\n",
    "    \n",
    "    return tpot, scores"
   ]
  },
  {
   "cell_type": "code",
   "execution_count": 24,
   "metadata": {},
   "outputs": [
    {
     "data": {
      "application/vnd.jupyter.widget-view+json": {
       "model_id": "",
       "version_major": 2,
       "version_minor": 0
      },
      "text/plain": [
       "HBox(children=(IntProgress(value=0, description='Optimization Progress', max=1550, style=ProgressStyle(descrip…"
      ]
     },
     "metadata": {},
     "output_type": "display_data"
    },
    {
     "data": {
      "text/plain": [
       "[<matplotlib.lines.Line2D at 0x232a1442b38>]"
      ]
     },
     "execution_count": 24,
     "metadata": {},
     "output_type": "execute_result"
    },
    {
     "data": {
      "image/png": "[encoded data removed]",
      "text/plain": [
       "<Figure size 432x288 with 1 Axes>"
      ]
     },
     "metadata": {
      "needs_background": "light"
     },
     "output_type": "display_data"
    }
   ],
   "source": [
    "tpot = TPOTRegressor(generations=30, population_size=50,\n",
    "                    verbosity=2, n_jobs=-1, random_state=2018)\n",
    "tpot, scores = fit_tpot(tpot, X_train, y_train)\n",
    "plt.plot(scores)"
   ]
  },
  {
   "cell_type": "markdown",
   "metadata": {},
   "source": [
    "## 文字列からPipelineを生成"
   ]
  },
  {
   "cell_type": "code",
   "execution_count": 35,
   "metadata": {},
   "outputs": [],
   "source": [
    "strs_pipeline = list(tpot.evaluated_individuals_.keys())"
   ]
  },
  {
   "cell_type": "code",
   "execution_count": 38,
   "metadata": {},
   "outputs": [
    {
     "data": {
      "text/plain": [
       "'DecisionTreeRegressor(input_matrix, DecisionTreeRegressor__max_depth=6, DecisionTreeRegressor__min_samples_leaf=7, DecisionTreeRegressor__min_samples_split=13)'"
      ]
     },
     "execution_count": 38,
     "metadata": {},
     "output_type": "execute_result"
    }
   ],
   "source": [
    "strs_pipeline[1]"
   ]
  },
  {
   "cell_type": "code",
   "execution_count": 45,
   "metadata": {},
   "outputs": [],
   "source": [
    "from deap import creator\n",
    "pipeline4deap = creator.Individual.from_string(strs_pipeline[1], tpot._pset)\n",
    "pipeline4sklearn = tpot._toolbox.compile(expr=pipeline4deap)"
   ]
  },
  {
   "cell_type": "code",
   "execution_count": 46,
   "metadata": {},
   "outputs": [
    {
     "data": {
      "text/plain": [
       "Pipeline(memory=None,\n",
       "     steps=[('decisiontreeregressor', DecisionTreeRegressor(criterion='mse', max_depth=6, max_features=None,\n",
       "           max_leaf_nodes=None, min_impurity_decrease=0.0,\n",
       "           min_impurity_split=None, min_samples_leaf=7,\n",
       "           min_samples_split=13, min_weight_fraction_leaf=0.0,\n",
       "           presort=False, random_state=None, splitter='best'))])"
      ]
     },
     "execution_count": 46,
     "metadata": {},
     "output_type": "execute_result"
    }
   ],
   "source": [
    "pipeline4sklearn"
   ]
  }
 ],
 "metadata": {
  "kernelspec": {
   "display_name": "Python 3",
   "language": "python",
   "name": "python3"
  },
  "language_info": {
   "codemirror_mode": {
    "name": "ipython",
    "version": 3
   },
   "file_extension": ".py",
   "mimetype": "text/x-python",
   "name": "python",
   "nbconvert_exporter": "python",
   "pygments_lexer": "ipython3",
   "version": "3.7.1"
  }
 },
 "nbformat": 4,
 "nbformat_minor": 2
}
