{
 "cells": [
  {
   "cell_type": "markdown",
   "metadata": {},
   "source": [
    "# LSLでデータにアクセスする"
   ]
  },
  {
   "cell_type": "code",
   "execution_count": null,
   "metadata": {},
   "outputs": [],
   "source": [
    "from pylsl import StreamInfo, StreamInlet, resolve_streams\n",
    "streams = resolve_streams(wait_time=3.)"
   ]
  },
  {
   "cell_type": "code",
   "execution_count": null,
   "metadata": {},
   "outputs": [],
   "source": [
    "streams"
   ]
  },
  {
   "cell_type": "markdown",
   "metadata": {},
   "source": [
    "# streamの情報を調べる"
   ]
  },
  {
   "cell_type": "code",
   "execution_count": null,
   "metadata": {},
   "outputs": [],
   "source": [
    "inlet = StreamInlet(streams[0])"
   ]
  },
  {
   "cell_type": "code",
   "execution_count": null,
   "metadata": {},
   "outputs": [],
   "source": [
    "print(inlet.info().name())                # inletに設定された名前\n",
    "print(inlet.info().type())                # inletに設定された「タイプ」\n",
    "print(inlet.info().channel_count())       # inletに含まれるチャンネルの数\n",
    "print(inlet.info().nominal_srate())       # inletのサンプリングレート"
   ]
  },
  {
   "cell_type": "code",
   "execution_count": null,
   "metadata": {},
   "outputs": [],
   "source": [
    "# チャンネル名を取得するための関数\n",
    "def pick_ch_names(info):\n",
    "    ch_xml = info.desc().child('channels').child('channel')\n",
    "    ch_names = []\n",
    "    for _ in range(info.channel_count()):\n",
    "        ch_names.append(ch_xml.child_value('label'))\n",
    "        ch_xml = ch_xml.next_sibling()\n",
    "    return ch_names"
   ]
  },
  {
   "cell_type": "code",
   "execution_count": null,
   "metadata": {},
   "outputs": [],
   "source": [
    "ch_names = pick_ch_names(inlet.info())\n",
    "ch_names"
   ]
  },
  {
   "cell_type": "code",
   "execution_count": null,
   "metadata": {},
   "outputs": [],
   "source": [
    "print(inlet.info().channel_format())\n",
    "print(inlet.info().source_id()) \n",
    "print(inlet.info().version())\n",
    "print(inlet.info().created_at())\n",
    "print(inlet.info().uid())\n",
    "print(inlet.info().session_id())\n",
    "print(inlet.info().hostname())"
   ]
  },
  {
   "cell_type": "code",
   "execution_count": null,
   "metadata": {},
   "outputs": [],
   "source": [
    "print(inlet.info().as_xml())"
   ]
  },
  {
   "cell_type": "markdown",
   "metadata": {},
   "source": [
    "# 信号を受信する"
   ]
  },
  {
   "cell_type": "markdown",
   "metadata": {},
   "source": [
    "## 必要な情報の入ったstreamを探す"
   ]
  },
  {
   "cell_type": "code",
   "execution_count": null,
   "metadata": {},
   "outputs": [],
   "source": [
    "# stream名の一覧を作る\n",
    "stream_names = []\n",
    "for stream in streams:\n",
    "    inlet = StreamInlet(stream)\n",
    "    stream_names.append(inlet.info().name())"
   ]
  },
  {
   "cell_type": "code",
   "execution_count": null,
   "metadata": {},
   "outputs": [],
   "source": [
    "stream_names"
   ]
  },
  {
   "cell_type": "code",
   "execution_count": null,
   "metadata": {},
   "outputs": [],
   "source": [
    "import numpy as np\n",
    "idx = np.where(np.array(stream_names)=='Pupil Primitive Data - Eye 0')[0][0]\n",
    "inlet = StreamInlet(streams[idx])"
   ]
  },
  {
   "cell_type": "code",
   "execution_count": null,
   "metadata": {},
   "outputs": [],
   "source": [
    "# 関数にまとめる\n",
    "def inlet_specific_stream(stream_name):\n",
    "    import numpy as np\n",
    "    streams = resolve_streams(wait_time=3.)\n",
    "    stream_names = []\n",
    "    for stream in streams:\n",
    "        inlet = StreamInlet(stream)\n",
    "        stream_names.append(inlet.info().name())\n",
    "    idx = np.where(np.array(stream_names)==stream_name)[0][0]\n",
    "    inlet = StreamInlet(streams[idx])\n",
    "    \n",
    "    return inlet"
   ]
  },
  {
   "cell_type": "code",
   "execution_count": null,
   "metadata": {},
   "outputs": [],
   "source": [
    "inlet = inlet_specific_stream('Pupil Primitive Data - Eye 0')"
   ]
  },
  {
   "cell_type": "markdown",
   "metadata": {},
   "source": [
    "## サンプルを取得する"
   ]
  },
  {
   "cell_type": "code",
   "execution_count": null,
   "metadata": {},
   "outputs": [],
   "source": [
    "# データのバッファ保存を開始する\n",
    "inlet.open_stream()"
   ]
  },
  {
   "cell_type": "code",
   "execution_count": null,
   "metadata": {},
   "outputs": [],
   "source": [
    "d, timestamps = inlet.pull_sample(timeout=1.)\n",
    "print(d)"
   ]
  },
  {
   "cell_type": "markdown",
   "metadata": {},
   "source": [
    "## チャンクを取得する"
   ]
  },
  {
   "cell_type": "code",
   "execution_count": null,
   "metadata": {},
   "outputs": [],
   "source": [
    "### チャンクを取得する\n",
    "d, timestamps = inlet.pull_chunk(timeout=1.)\n",
    "print(np.array(d).shape)\n",
    "print(d[0])"
   ]
  },
  {
   "cell_type": "code",
   "execution_count": null,
   "metadata": {},
   "outputs": [],
   "source": [
    "### チャンクについて実験1\n",
    "inlet = inlet_specific_stream('Pupil Primitive Data - Eye 0')\n",
    "d, _ = inlet.pull_chunk()\n",
    "print(np.array(d).shape)"
   ]
  },
  {
   "cell_type": "markdown",
   "metadata": {},
   "source": [
    "## pull_chunk()の性質について"
   ]
  },
  {
   "cell_type": "code",
   "execution_count": null,
   "metadata": {},
   "outputs": [],
   "source": [
    "### pullについて実験1\n",
    "while True:                      # 条件を満たすまで何度でも繰り返す\n",
    "    d, _ = inlet.pull_chunk()    # pullする\n",
    "    d = np.array(d)              # 扱いやすいようnumpy.array形式にする\n",
    "    print(d.shape)               # pullで引っ張ってきたデータのサイズを表示\n",
    "    if d.shape[0]==0: break      # 引っ張ってきたデータが空っぽ（＝バッファが空）だったら終了"
   ]
  },
  {
   "cell_type": "code",
   "execution_count": null,
   "metadata": {},
   "outputs": [],
   "source": [
    "### pullについての実験2\n",
    "while True:                      # 条件を満たすまで何度でも繰り返す\n",
    "    d, _ = inlet.pull_chunk()    # pullする\n",
    "    d = np.array(d)              # 扱いやすいようnumpy.array形式にする\n",
    "    if d.shape[0]==0: break      # 引っ張ってきたデータが空っぽ（＝バッファが空）だったら終了\n",
    "    print(d[-1, 2])               # pullで引っ張ってきたデータ（のうち最も古いもの）のタイムスタンプを表示"
   ]
  },
  {
   "cell_type": "code",
   "execution_count": null,
   "metadata": {},
   "outputs": [],
   "source": [
    "print(inlet.info().as_xml())"
   ]
  },
  {
   "cell_type": "markdown",
   "metadata": {},
   "source": [
    "# リアルタイム解析してみる\n",
    "Notebook上ではうまく動きません。  \n",
    "実行する場合は、コピペで.pyファイルを作って走らせてください。"
   ]
  },
  {
   "cell_type": "code",
   "execution_count": null,
   "metadata": {},
   "outputs": [],
   "source": [
    "from time import sleep\n",
    "import numpy as np\n",
    "import matplotlib.pyplot as plt\n",
    "from matplotlib import patches\n",
    "from pylsl import StreamInfo, StreamInlet, resolve_streams\n",
    "\n",
    "def inlet_specific_stream(stream_name):\n",
    "    import numpy as np\n",
    "    streams = resolve_streams(wait_time=3.)\n",
    "    stream_names = []\n",
    "    for stream in streams:\n",
    "        inlet = StreamInlet(stream)\n",
    "        stream_names.append(inlet.info().name())\n",
    "    idx = np.where(np.array(stream_names)==stream_name)[0][0]\n",
    "    inlet = StreamInlet(streams[idx])\n",
    "    return inlet\n",
    "\n",
    "stream_name = 'Pupil Primitive Data - Eye 0'\n",
    "\n",
    "fig = plt.figure()\n",
    "ax = fig.add_subplot(111)\n",
    "\n",
    "inlet = inlet_specific_stream(stream_name)\n",
    "inlet.open_stream()    # バッファ開始\n",
    "sleep(.1)               # バッファにある程度データをためる\n",
    "print('START!')\n",
    "while True:\n",
    "    # データ取得\n",
    "    if True:                                         # 正しい例\n",
    "        d, _ = inlet.pull_chunk(max_samples=1024)    # バッファにあるデータを全部取る\n",
    "        assert(len(d) < 1024)                        # 念のため、全部取り切れていることを確認する\n",
    "        try:\n",
    "            diameter = np.array(d)[-1, 0]            # とってきたデータの最後の部分を使う\n",
    "        except:                                      # たまに何故かバッファが空になるので...\n",
    "            pass                                     # その時はpassするようにごまかす\n",
    "\n",
    "    if False:                                        # 悪い例（１）！！！\n",
    "        d, _ = inlet.pull_chunk(max_samples=1)       # バッファから1サンプルだけ取得する\n",
    "        diameter = np.array(d)[0, 0]\n",
    "\n",
    "    if False:                                        # 悪い例（２）！！！\n",
    "        d, _ = inlet.pull_sample(timeout=1.)         # pull_sampleを使って1サンプルだけ取得する\n",
    "        diameter = d[0]\n",
    "\n",
    "    # 取得した瞳孔サイズをリアルタイムに表示\n",
    "    plt.cla()\n",
    "    c = patches.Circle(xy=(0,0), radius=diameter/2)\n",
    "    ax.add_patch(c)\n",
    "    plt.xlim([-30, 30])\n",
    "    plt.ylim([-30, 30])\n",
    "    plt.pause(.1)"
   ]
  }
 ],
 "metadata": {
  "kernelspec": {
   "display_name": "Python 3",
   "language": "python",
   "name": "python3"
  },
  "language_info": {
   "codemirror_mode": {
    "name": "ipython",
    "version": 3
   },
   "file_extension": ".py",
   "mimetype": "text/x-python",
   "name": "python",
   "nbconvert_exporter": "python",
   "pygments_lexer": "ipython3",
   "version": "3.7.1"
  },
  "toc": {
   "base_numbering": 1,
   "nav_menu": {},
   "number_sections": true,
   "sideBar": true,
   "skip_h1_title": false,
   "title_cell": "Table of Contents",
   "title_sidebar": "Contents",
   "toc_cell": false,
   "toc_position": {},
   "toc_section_display": true,
   "toc_window_display": false
  }
 },
 "nbformat": 4,
 "nbformat_minor": 2
}
