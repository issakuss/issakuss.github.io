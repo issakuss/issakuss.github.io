{
 "cells": [
  {
   "cell_type": "markdown",
   "metadata": {},
   "source": [
    "## データの準備"
   ]
  },
  {
   "cell_type": "code",
   "execution_count": 1,
   "metadata": {},
   "outputs": [],
   "source": [
    "from sklearn.datasets import load_boston\n",
    "from sklearn.model_selection import train_test_split\n",
    "housing = load_boston()\n",
    "X_train, X_test, y_train, y_test = train_test_split(housing.data, housing.target,\n",
    "                                                    train_size=0.75, test_size=0.25)"
   ]
  },
  {
   "cell_type": "markdown",
   "metadata": {},
   "source": [
    "## 例1)PCA -> SVRのPipelineで解析する"
   ]
  },
  {
   "cell_type": "markdown",
   "metadata": {},
   "source": [
    "### estimatorの設定"
   ]
  },
  {
   "cell_type": "code",
   "execution_count": 2,
   "metadata": {},
   "outputs": [],
   "source": [
    "from sklearn.svm import SVR\n",
    "from sklearn.decomposition import PCA\n",
    "from sklearn.pipeline import Pipeline\n",
    "pl1 = Pipeline([['pca', PCA(random_state=2018)],\n",
    "                ['svr', SVR(kernel='linear')]])"
   ]
  },
  {
   "cell_type": "markdown",
   "metadata": {},
   "source": [
    "### parameter candidateの設定"
   ]
  },
  {
   "cell_type": "code",
   "execution_count": 3,
   "metadata": {},
   "outputs": [],
   "source": [
    "prms1 = {'pca__n_components': [0.1, 0.5, 0.9],\n",
    "         'svr__C': [0.1, 0.5, 1.],\n",
    "         'svr__epsilon': [0.05, 0.10, 0.20]}"
   ]
  },
  {
   "cell_type": "markdown",
   "metadata": {},
   "source": [
    "### Grid Search 実行"
   ]
  },
  {
   "cell_type": "code",
   "execution_count": 4,
   "metadata": {},
   "outputs": [
    {
     "name": "stdout",
     "output_type": "stream",
     "text": [
      "Fitting 5 folds for each of 27 candidates, totalling 135 fits\n"
     ]
    },
    {
     "name": "stderr",
     "output_type": "stream",
     "text": [
      "[Parallel(n_jobs=-1)]: Using backend LokyBackend with 36 concurrent workers.\n",
      "[Parallel(n_jobs=-1)]: Done  13 tasks      | elapsed:    2.1s\n",
      "[Parallel(n_jobs=-1)]: Done  26 tasks      | elapsed:    2.4s\n",
      "[Parallel(n_jobs=-1)]: Done  41 tasks      | elapsed:    2.8s\n",
      "[Parallel(n_jobs=-1)]: Done  56 tasks      | elapsed:    3.1s\n",
      "[Parallel(n_jobs=-1)]: Done  78 out of 135 | elapsed:    3.4s remaining:    2.4s\n",
      "[Parallel(n_jobs=-1)]: Done  92 out of 135 | elapsed:    3.7s remaining:    1.7s\n",
      "[Parallel(n_jobs=-1)]: Done 106 out of 135 | elapsed:    3.9s remaining:    1.0s\n",
      "[Parallel(n_jobs=-1)]: Done 120 out of 135 | elapsed:    4.2s remaining:    0.4s\n",
      "[Parallel(n_jobs=-1)]: Done 135 out of 135 | elapsed:    5.2s finished\n"
     ]
    },
    {
     "data": {
      "text/plain": [
       "GridSearchCV(cv=5, error_score='raise-deprecating',\n",
       "       estimator=Pipeline(memory=None,\n",
       "     steps=[['pca', PCA(copy=True, iterated_power='auto', n_components=None, random_state=2018,\n",
       "  svd_solver='auto', tol=0.0, whiten=False)], ['svr', SVR(C=1.0, cache_size=200, coef0=0.0, degree=3, epsilon=0.1,\n",
       "  gamma='auto_deprecated', kernel='linear', max_iter=-1, shrinking=True,\n",
       "  tol=0.001, verbose=False)]]),\n",
       "       fit_params=None, iid='warn', n_jobs=-1,\n",
       "       param_grid={'pca__n_components': [0.1, 0.5, 0.9], 'svr__C': [0.1, 0.5, 1.0], 'svr__epsilon': [0.05, 0.1, 0.2]},\n",
       "       pre_dispatch='2*n_jobs', refit=True, return_train_score=True,\n",
       "       scoring=None, verbose=10)"
      ]
     },
     "execution_count": 4,
     "metadata": {},
     "output_type": "execute_result"
    }
   ],
   "source": [
    "from sklearn.model_selection import GridSearchCV\n",
    "gs1 = GridSearchCV(pl1, prms1, n_jobs=-1, return_train_score=True, cv=5, verbose=10)\n",
    "gs1.fit(X_train, y_train)"
   ]
  },
  {
   "cell_type": "markdown",
   "metadata": {},
   "source": [
    "### 精度確認"
   ]
  },
  {
   "cell_type": "code",
   "execution_count": 5,
   "metadata": {},
   "outputs": [
    {
     "name": "stdout",
     "output_type": "stream",
     "text": [
      "R2 = -3.075\n",
      "r = 0.527 (p = 0.000)\n"
     ]
    }
   ],
   "source": [
    "from sklearn.metrics import r2_score\n",
    "from scipy.stats import pearsonr\n",
    "print('R2 = {:.3f}'.format(r2_score(gs1.predict(X_test), y_test)))\n",
    "print('r = {:.3f} (p = {:.3f})'.format(*pearsonr(gs1.predict(X_test), y_test)))"
   ]
  },
  {
   "cell_type": "markdown",
   "metadata": {},
   "source": [
    "## 例2) PCAなしでSVRをする"
   ]
  },
  {
   "cell_type": "code",
   "execution_count": 6,
   "metadata": {},
   "outputs": [
    {
     "name": "stdout",
     "output_type": "stream",
     "text": [
      "Fitting 5 folds for each of 9 candidates, totalling 45 fits\n"
     ]
    },
    {
     "name": "stderr",
     "output_type": "stream",
     "text": [
      "[Parallel(n_jobs=-1)]: Using backend LokyBackend with 36 concurrent workers.\n",
      "[Parallel(n_jobs=-1)]: Done   4 out of  45 | elapsed:    0.3s remaining:    4.2s\n",
      "[Parallel(n_jobs=-1)]: Done   9 out of  45 | elapsed:    0.4s remaining:    2.0s\n",
      "[Parallel(n_jobs=-1)]: Done  14 out of  45 | elapsed:    0.8s remaining:    2.0s\n",
      "[Parallel(n_jobs=-1)]: Done  19 out of  45 | elapsed:    1.2s remaining:    1.7s\n",
      "[Parallel(n_jobs=-1)]: Done  24 out of  45 | elapsed:    2.1s remaining:    1.9s\n",
      "[Parallel(n_jobs=-1)]: Done  29 out of  45 | elapsed:    2.2s remaining:    1.2s\n",
      "[Parallel(n_jobs=-1)]: Done  34 out of  45 | elapsed:    2.6s remaining:    0.8s\n",
      "[Parallel(n_jobs=-1)]: Done  39 out of  45 | elapsed:    3.3s remaining:    0.4s\n",
      "[Parallel(n_jobs=-1)]: Done  45 out of  45 | elapsed:    4.8s finished\n"
     ]
    },
    {
     "data": {
      "text/plain": [
       "GridSearchCV(cv=5, error_score='raise-deprecating',\n",
       "       estimator=SVR(C=1.0, cache_size=200, coef0=0.0, degree=3, epsilon=0.1,\n",
       "  gamma='auto_deprecated', kernel='linear', max_iter=-1, shrinking=True,\n",
       "  tol=0.001, verbose=False),\n",
       "       fit_params=None, iid='warn', n_jobs=-1,\n",
       "       param_grid={'C': [0.1, 0.5, 1.0], 'epsilon': [0.05, 0.1, 0.2]},\n",
       "       pre_dispatch='2*n_jobs', refit=True, return_train_score=True,\n",
       "       scoring=None, verbose=10)"
      ]
     },
     "execution_count": 6,
     "metadata": {},
     "output_type": "execute_result"
    }
   ],
   "source": [
    "prms2 = {'C': [0.1, 0.5, 1.],\n",
    "        'epsilon': [0.05, 0.10, 0.20]}\n",
    "gs2 = GridSearchCV(SVR(kernel='linear'), prms2, n_jobs=-1, return_train_score=True, cv=5, verbose=10)\n",
    "gs2.fit(X_train, y_train)"
   ]
  },
  {
   "cell_type": "code",
   "execution_count": 7,
   "metadata": {},
   "outputs": [
    {
     "name": "stdout",
     "output_type": "stream",
     "text": [
      "R2 = 0.607\n",
      "r = 0.832 (p = 0.000)\n"
     ]
    }
   ],
   "source": [
    "print('R2 = {:.3f}'.format(r2_score(gs2.predict(X_test), y_test)))\n",
    "print('r = {:.3f} (p = {:.3f})'.format(*pearsonr(gs2.predict(X_test), y_test)))"
   ]
  },
  {
   "cell_type": "markdown",
   "metadata": {},
   "source": [
    "## 都合のいいPCAクラス"
   ]
  },
  {
   "cell_type": "markdown",
   "metadata": {},
   "source": [
    "### クラスを作る"
   ]
  },
  {
   "cell_type": "raw",
   "metadata": {},
   "source": [
    "# 別の.pyファイルに保存する\n",
    "from sklearn.base import BaseEstimator, TransformerMixin\n",
    "from sklearn.decomposition import PCA\n",
    "class myPCA(BaseEstimator, TransformerMixin):\n",
    "    def __init__(self, n_components=0, random_state=None):\n",
    "        self.n_components = n_components\n",
    "        self.random_state = random_state\n",
    "\n",
    "    def fit(self, X, y=None):\n",
    "        if self.n_components==0:\n",
    "            return self\n",
    "        self.pca = PCA(n_components=self.n_components, random_state=self.random_state)\n",
    "        self.pca.fit(X)\n",
    "        return self\n",
    "\n",
    "    def transform(self, X, y=None):\n",
    "        if self.n_components==0:\n",
    "            return X        \n",
    "        return self.pca.transform(X)"
   ]
  },
  {
   "cell_type": "markdown",
   "metadata": {},
   "source": [
    "### クラスをインポート"
   ]
  },
  {
   "cell_type": "code",
   "execution_count": 8,
   "metadata": {},
   "outputs": [],
   "source": [
    "from mypca import myPCA"
   ]
  },
  {
   "cell_type": "markdown",
   "metadata": {},
   "source": [
    "### クラスを試す"
   ]
  },
  {
   "cell_type": "markdown",
   "metadata": {},
   "source": [
    "#### PCAのちSVRのPipelineを試した時と同じ条件"
   ]
  },
  {
   "cell_type": "code",
   "execution_count": 9,
   "metadata": {},
   "outputs": [
    {
     "name": "stdout",
     "output_type": "stream",
     "text": [
      "Fitting 5 folds for each of 27 candidates, totalling 135 fits\n"
     ]
    },
    {
     "name": "stderr",
     "output_type": "stream",
     "text": [
      "[Parallel(n_jobs=-1)]: Using backend LokyBackend with 36 concurrent workers.\n",
      "[Parallel(n_jobs=-1)]: Batch computation too fast (0.1875s.) Setting batch_size=2.\n",
      "[Parallel(n_jobs=-1)]: Done  13 tasks      | elapsed:    0.2s\n",
      "[Parallel(n_jobs=-1)]: Done  26 tasks      | elapsed:    0.5s\n",
      "[Parallel(n_jobs=-1)]: Done  36 out of 135 | elapsed:    0.6s remaining:    1.7s\n",
      "[Parallel(n_jobs=-1)]: Done  50 out of 135 | elapsed:    0.9s remaining:    1.6s\n",
      "[Parallel(n_jobs=-1)]: Done  64 out of 135 | elapsed:    1.0s remaining:    1.2s\n",
      "[Parallel(n_jobs=-1)]: Done  78 out of 135 | elapsed:    1.2s remaining:    0.8s\n",
      "[Parallel(n_jobs=-1)]: Done 135 out of 135 | elapsed:    2.8s finished\n"
     ]
    },
    {
     "data": {
      "text/plain": [
       "GridSearchCV(cv=5, error_score='raise-deprecating',\n",
       "       estimator=Pipeline(memory=None,\n",
       "     steps=[['pca', myPCA(n_components=0, random_state=2018)], ['svr', SVR(C=1.0, cache_size=200, coef0=0.0, degree=3, epsilon=0.1,\n",
       "  gamma='auto_deprecated', kernel='linear', max_iter=-1, shrinking=True,\n",
       "  tol=0.001, verbose=False)]]),\n",
       "       fit_params=None, iid='warn', n_jobs=-1,\n",
       "       param_grid={'pca__n_components': [0.1, 0.5, 0.9], 'svr__C': [0.1, 0.5, 1.0], 'svr__epsilon': [0.05, 0.1, 0.2]},\n",
       "       pre_dispatch='2*n_jobs', refit=True, return_train_score=True,\n",
       "       scoring=None, verbose=10)"
      ]
     },
     "execution_count": 9,
     "metadata": {},
     "output_type": "execute_result"
    }
   ],
   "source": [
    "prms3 = prms1\n",
    "pl3 = Pipeline([['pca', myPCA(random_state=2018)],\n",
    "                ['svr', SVR(kernel='linear')]])\n",
    "gs3 = GridSearchCV(pl3, prms3, n_jobs=-1, return_train_score=True, cv=5, verbose=10)\n",
    "gs3.fit(X_train, y_train)"
   ]
  },
  {
   "cell_type": "code",
   "execution_count": 10,
   "metadata": {},
   "outputs": [
    {
     "name": "stdout",
     "output_type": "stream",
     "text": [
      "R2 = -3.075\n",
      "r = 0.527 (p = 0.000)\n"
     ]
    }
   ],
   "source": [
    "print('R2 = {:.3f}'.format(r2_score(gs3.predict(X_test), y_test)))\n",
    "print('r = {:.3f} (p = {:.3f})'.format(*pearsonr(gs3.predict(X_test), y_test)))"
   ]
  },
  {
   "cell_type": "markdown",
   "metadata": {},
   "source": [
    "#### PCAなしでのSVRも含めてGrid Search"
   ]
  },
  {
   "cell_type": "code",
   "execution_count": 11,
   "metadata": {},
   "outputs": [
    {
     "name": "stdout",
     "output_type": "stream",
     "text": [
      "Fitting 5 folds for each of 36 candidates, totalling 180 fits\n"
     ]
    },
    {
     "name": "stderr",
     "output_type": "stream",
     "text": [
      "[Parallel(n_jobs=-1)]: Using backend LokyBackend with 36 concurrent workers.\n",
      "[Parallel(n_jobs=-1)]: Done  13 tasks      | elapsed:    0.7s\n",
      "[Parallel(n_jobs=-1)]: Done  26 tasks      | elapsed:    1.0s\n",
      "[Parallel(n_jobs=-1)]: Done  41 tasks      | elapsed:    1.7s\n",
      "[Parallel(n_jobs=-1)]: Done  56 tasks      | elapsed:    2.5s\n",
      "[Parallel(n_jobs=-1)]: Done  73 tasks      | elapsed:    2.9s\n",
      "[Parallel(n_jobs=-1)]: Done  90 tasks      | elapsed:    3.3s\n",
      "[Parallel(n_jobs=-1)]: Done 109 tasks      | elapsed:    3.6s\n",
      "[Parallel(n_jobs=-1)]: Done 128 out of 180 | elapsed:    4.0s remaining:    1.6s\n",
      "[Parallel(n_jobs=-1)]: Done 147 out of 180 | elapsed:    4.4s remaining:    0.9s\n",
      "[Parallel(n_jobs=-1)]: Done 166 out of 180 | elapsed:    4.9s remaining:    0.3s\n",
      "[Parallel(n_jobs=-1)]: Done 180 out of 180 | elapsed:    6.7s finished\n"
     ]
    },
    {
     "data": {
      "text/plain": [
       "GridSearchCV(cv=5, error_score='raise-deprecating',\n",
       "       estimator=Pipeline(memory=None,\n",
       "     steps=[['pca', myPCA(n_components=0, random_state=2018)], ['svr', SVR(C=1.0, cache_size=200, coef0=0.0, degree=3, epsilon=0.1,\n",
       "  gamma='auto_deprecated', kernel='linear', max_iter=-1, shrinking=True,\n",
       "  tol=0.001, verbose=False)]]),\n",
       "       fit_params=None, iid='warn', n_jobs=-1,\n",
       "       param_grid={'pca__n_components': [0, 0.1, 0.5, 0.9], 'svr__C': [0.1, 0.5, 1.0], 'svr__epsilon': [0.05, 0.1, 0.2]},\n",
       "       pre_dispatch='2*n_jobs', refit=True, return_train_score=True,\n",
       "       scoring=None, verbose=10)"
      ]
     },
     "execution_count": 11,
     "metadata": {},
     "output_type": "execute_result"
    }
   ],
   "source": [
    "prms4 = {'pca__n_components': [0, 0.1, 0.5, 0.9],\n",
    "         'svr__C': [0.1, 0.5, 1.],\n",
    "         'svr__epsilon': [0.05, 0.10, 0.20]}\n",
    "pl4 = pl3\n",
    "gs4 = GridSearchCV(pl4, prms4, n_jobs=-1, return_train_score=True, cv=5, verbose=10)\n",
    "gs4.fit(X_train, y_train)"
   ]
  },
  {
   "cell_type": "code",
   "execution_count": 12,
   "metadata": {},
   "outputs": [
    {
     "name": "stdout",
     "output_type": "stream",
     "text": [
      "R2 = 0.607\n",
      "r = 0.832 (p = 0.000)\n"
     ]
    }
   ],
   "source": [
    "print('R2 = {:.3f}'.format(r2_score(gs4.predict(X_test), y_test)))\n",
    "print('r = {:.3f} (p = {:.3f})'.format(*pearsonr(gs4.predict(X_test), y_test)))"
   ]
  }
 ],
 "metadata": {
  "kernelspec": {
   "display_name": "Python 3",
   "language": "python",
   "name": "python3"
  },
  "language_info": {
   "codemirror_mode": {
    "name": "ipython",
    "version": 3
   },
   "file_extension": ".py",
   "mimetype": "text/x-python",
   "name": "python",
   "nbconvert_exporter": "python",
   "pygments_lexer": "ipython3",
   "version": "3.7.1"
  }
 },
 "nbformat": 4,
 "nbformat_minor": 2
}
